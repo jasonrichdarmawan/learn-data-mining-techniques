{
 "cells": [
  {
   "cell_type": "markdown",
   "metadata": {},
   "source": [
    "# 2003-Bioinformatics-A Comparison of Normalization Methods for High Density Oligonucleotide Array Data Based on Variance and Bias\n",
    "\n",
    "The idea is so that each patient's data has the same distribution.\n",
    "\n",
    "\"The goal of the Quantile method is to make the distribution of probe intensities for each array in a set of arrays the same.  The method is motivated by the idea that a quantile-quantile plot shows that the distribution of two data vectors is the same if the plot is a straight diagonal line and not the same if it is other than a diagonal line\"\n",
    "\n",
    "Reference:\n",
    "\n",
    "[1]B. M. Bolstad, R. A. Irizarry, M. Åstrand, and T. P. Speed, “A comparison of normalization methods for high density\n",
    "oligonucleotide array data based on variance and bias,” Bioinformatics, vol. 19, no. 2, pp. 185–193, Jan. 2003, doi: 10.1093/bioinformatics/19.2.185.\n",
    "  "
   ]
  },
  {
   "cell_type": "code",
   "execution_count": 38,
   "metadata": {},
   "outputs": [
    {
     "name": "stdout",
     "output_type": "stream",
     "text": [
      "Original data:\n",
      "       Sample1  Sample2  Sample3\n",
      "GeneA       13        7       20\n",
      "GeneB        4       18        6\n",
      "GeneC       25       15       11\n",
      "GeneD        9       22       17\n",
      "Sorted matrix per column:\n",
      "[[ 4  7  6]\n",
      " [ 9 15 11]\n",
      " [13 18 17]\n",
      " [25 22 20]]\n",
      "Row-wise means:\n",
      "[ 5.67 11.67 16.   22.33]\n",
      "Quantile normalized data:\n",
      "       Sample1  Sample2  Sample3\n",
      "GeneA    16.00     5.67    22.33\n",
      "GeneB     5.67    16.00     5.67\n",
      "GeneC    22.33    11.67    11.67\n",
      "GeneD    11.67    22.33    16.00\n"
     ]
    }
   ],
   "source": [
    "import numpy as np\n",
    "import pandas as pd\n",
    "\n",
    "np.set_printoptions(precision=2)\n",
    "\n",
    "# Step 1: Create an example data\n",
    "# \"1. Given n array of length p, \n",
    "# form X of dimension p × n where each array is a column\"\n",
    "df = pd.DataFrame({\n",
    "    \"Sample1\": [13, 4, 25, 9],\n",
    "    \"Sample2\": [7, 18, 15, 22],\n",
    "    \"Sample3\": [20, 6, 11, 17]\n",
    "}, index=[\"GeneA\", \"GeneB\", \"GeneC\", \"GeneD\"])\n",
    "\n",
    "print(\"Original data:\")\n",
    "print(df)\n",
    "\n",
    "# Step 2: Sort each column (independently)\n",
    "# \"2. Sort each column of X to give Xsort\"\n",
    "sorted_matrix = np.sort(df.values, axis=0)\n",
    "\n",
    "print(\"Sorted matrix per column:\")\n",
    "print(sorted_matrix)\n",
    "\n",
    "# Step 3: Compute row-wise mean\n",
    "# \"3. Take the means across rows of Xsort and assign this \n",
    "# mean to each element in the row to get X'sort\"\n",
    "rank_means = np.mean(sorted_matrix, axis=1)\n",
    "\n",
    "print(\"Row-wise means:\")\n",
    "print(rank_means)\n",
    "\n",
    "# Step 4: Assign rank means back to original ranks\n",
    "# \"4. Get $X_normalized$ by rearranging each column of X'_sort \n",
    "# to have the same ordering as original X\"\n",
    "df_normalized = pd.DataFrame(0.0, index=df.index, columns=df.columns)\n",
    "for i in range(df.shape[1]): # Iterate over each sample (column)\n",
    "    ranks = np.argsort(np.argsort(df.iloc[:, i].values)) # Get ranks\n",
    "    df_normalized.iloc[:, i] = rank_means[ranks] # Assign mean to original ranks\n",
    "\n",
    "print(\"Quantile normalized data:\")\n",
    "print(df_normalized.round(2))"
   ]
  },
  {
   "cell_type": "code",
   "execution_count": 39,
   "metadata": {},
   "outputs": [
    {
     "name": "stdout",
     "output_type": "stream",
     "text": [
      "Example data:\n",
      "[13  4 25  9]\n",
      "Indices that would sort the array:\n",
      "[1 3 0 2]\n",
      "Ranks of the original values:\n",
      "[2 0 3 1]\n"
     ]
    }
   ],
   "source": [
    "# Example how to get ranks\n",
    "print(\"Example data:\")\n",
    "print(df.iloc[:, 0].values)\n",
    "\n",
    "print(\"Indices that would sort the array:\")\n",
    "print(np.argsort(df.iloc[:, 0].values)) # Get the indices that would sort an array\n",
    "\n",
    "print(\"Ranks of the original values:\")\n",
    "print(np.argsort(np.argsort(df.iloc[:, 0].values))) # Get the ranks of the original values"
   ]
  },
  {
   "cell_type": "code",
   "execution_count": 45,
   "metadata": {},
   "outputs": [
    {
     "name": "stdout",
     "output_type": "stream",
     "text": [
      "Original data:\n",
      "       Sample1  Sample2  Sample3\n",
      "GeneA       13        7       20\n",
      "GeneB        4       18        6\n",
      "GeneC       25       15       11\n",
      "GeneD        9       22       17\n",
      "Quantile normalized data:\n",
      "       Sample1  Sample2  Sample3\n",
      "GeneA    16.00     5.67    22.33\n",
      "GeneB     5.67    16.00     5.67\n",
      "GeneC    22.33    11.67    11.67\n",
      "GeneD    11.67    22.33    16.00\n"
     ]
    }
   ],
   "source": [
    "def quantile_normalize(df: pd.DataFrame):\n",
    "    sorted_matrix = np.sort(df.values, axis=0)\n",
    "    rank_means = np.mean(sorted_matrix, axis=1)\n",
    "    df_normalized = pd.DataFrame(0.0, index=df.index, columns=df.columns)\n",
    "    for i in range(df.shape[1]): # Iterate over each sample (column)\n",
    "        ranks = np.argsort(np.argsort(df.iloc[:, i].values)) # Get ranks\n",
    "        df_normalized.iloc[:, i] = rank_means[ranks] # Assign mean to original ranks\n",
    "    return df_normalized\n",
    "\n",
    "df_normalized = quantile_normalize(df)\n",
    "\n",
    "print(\"Original data:\")\n",
    "print(df)\n",
    "\n",
    "print(\"Quantile normalized data:\")\n",
    "print(df_normalized.round(2))"
   ]
  }
 ],
 "metadata": {
  "kernelspec": {
   "display_name": "3.10.14",
   "language": "python",
   "name": "python3"
  },
  "language_info": {
   "codemirror_mode": {
    "name": "ipython",
    "version": 3
   },
   "file_extension": ".py",
   "mimetype": "text/x-python",
   "name": "python",
   "nbconvert_exporter": "python",
   "pygments_lexer": "ipython3",
   "version": "3.10.14"
  }
 },
 "nbformat": 4,
 "nbformat_minor": 2
}
